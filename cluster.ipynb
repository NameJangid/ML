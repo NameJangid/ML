{
 "cells": [
  {
   "cell_type": "code",
   "execution_count": 1,
   "metadata": {},
   "outputs": [],
   "source": [
    "import time\n",
    "import urllib\n",
    "\n",
    "import bs4\n",
    "import requests"
   ]
  },
  {
   "cell_type": "code",
   "execution_count": 2,
   "metadata": {},
   "outputs": [],
   "source": [
    "start_url = \"http://www.imdb.com/search/title?year=2017&page=1&ref_=adv_nxt\"\n",
    "target_url=\"http://www.imdb.com/search/title?year=2017&page=6&ref_=adv_nxt\"\n",
    "\n",
    "title_list = []\n",
    "watchable_list = []\n",
    "genre_list = []\n",
    "rating_list = []"
   ]
  },
  {
   "cell_type": "code",
   "execution_count": 3,
   "metadata": {},
   "outputs": [],
   "source": [
    "def find_first_link(url):\n",
    "    response = requests.get(url)\n",
    "    html = response.text\n",
    "    soup = bs4.BeautifulSoup(html, \"html.parser\")\n",
    "    content_div = soup.find(class_=\"desc\").find(class_=\"lister-page-next next-page\")\n",
    "\n",
    "    #Section to do work\n",
    "    content_div2 = soup.find_all(class_=\"lister-item-content\")\n",
    "    \n",
    "    for content in content_div2:\n",
    "        score = 0.0\n",
    "        count = 0\n",
    "        genre = content.find(class_=\"genre\").get_text()\n",
    "        rating = content.find(class_=\"ratings-bar\").find(class_=\"inline-block ratings-imdb-rating\").get(\"data-value\")\n",
    "        \n",
    "        name = content.find(class_=\"lister-item-header\").a.get_text()\n",
    "        title_list.append(name)\n",
    "        if \"Action\" in genre:\n",
    "            score+=6\n",
    "            count+=10\n",
    "        if \"Adventure\" in genre:\n",
    "            score+=6\n",
    "            count+=10\n",
    "        if \"Comedy\" in genre:\n",
    "            score+=7\n",
    "            count+=10\n",
    "        if \"Crime\" in genre:\n",
    "            score+=6\n",
    "            count+=10\n",
    "        if \"Drama\" in genre:\n",
    "            score+=9\n",
    "            count+=10\n",
    "        if \"Fantasy\" in genre:\n",
    "            score+=6\n",
    "            count+=10\n",
    "        if \"Historical\" in genre:\n",
    "            score+=5\n",
    "            count+=10\n",
    "        if \"Biography\" in genre:\n",
    "            score+=6\n",
    "            count+=10\n",
    "        if \"Horror\" in genre:\n",
    "            score+=4\n",
    "            count+=10\n",
    "        if \"Mystery\" in genre:\n",
    "            score+=6\n",
    "            count+=10\n",
    "        if \"Musical\" in genre:\n",
    "            score+=8\n",
    "            count+=10\n",
    "        if \"Sci-Fi\" in genre:\n",
    "            score+=8\n",
    "            count+=10\n",
    "        if \"Romance\" in genre:\n",
    "            score+=8\n",
    "            count+=10\n",
    "        if \"Thriller\" in genre:\n",
    "            score+=7\n",
    "            count+=10\n",
    "\n",
    "\n",
    "        if count==0:\n",
    "            genre_score = 6/10;    \n",
    "        else:    \n",
    "            genre_score = score/count\n",
    "        genre_list.append(genre_score)\n",
    "\n",
    "        rating_score = float(rating)/10.0\n",
    "        rating_list.append(rating_score)\n",
    "\n",
    "        total_score = genre_score + rating_score\n",
    "\n",
    "        if total_score>=1.33:\n",
    "            watchable_list.append(1.0)\n",
    "        else:\n",
    "            watchable_list.append(0.0)\n",
    "            \n",
    "        \n",
    "    article_link = None\n",
    "    article_link = content_div.get('href')\n",
    "\n",
    "    if not article_link:\n",
    "        return\n",
    "    first_link = urllib.parse.urljoin('http://www.imdb.com/search/title', article_link)\n",
    "\n",
    "    return first_link"
   ]
  },
  {
   "cell_type": "code",
   "execution_count": 4,
   "metadata": {},
   "outputs": [],
   "source": [
    "\n",
    "def continue_crawl(search_history, target_url, max_steps=51):\n",
    "    if search_history[-1] == target_url:\n",
    "        print(\"We've found the target article!\")\n",
    "        return False\n",
    "    elif len(search_history) > max_steps:\n",
    "        print(\"The search has gone on suspiciously long, aborting search!\")\n",
    "        return False\n",
    "    elif search_history[-1] in search_history[:-1]:\n",
    "        print(\"We've arrived at an article we've already seen, aborting search!\")\n",
    "        return False\n",
    "    else:\n",
    "        return True"
   ]
  },
  {
   "cell_type": "code",
   "execution_count": 5,
   "metadata": {},
   "outputs": [
    {
     "name": "stdout",
     "output_type": "stream",
     "text": [
      "http://www.imdb.com/search/title?year=2017&page=1&ref_=adv_nxt\n",
      "http://www.imdb.com/search/title?year=2017&page=2&ref_=adv_nxt\n",
      "http://www.imdb.com/search/title?year=2017&page=3&ref_=adv_nxt\n",
      "http://www.imdb.com/search/title?year=2017&page=4&ref_=adv_nxt\n",
      "http://www.imdb.com/search/title?year=2017&page=5&ref_=adv_nxt\n",
      "We've found the target article!\n"
     ]
    }
   ],
   "source": [
    "article_chain = [start_url]\n",
    "\n",
    "while continue_crawl(article_chain, target_url):\n",
    "    print(article_chain[-1])\n",
    "\n",
    "    first_link = find_first_link(article_chain[-1])\n",
    "    if not first_link:\n",
    "        print(\"We've arrived at an article with no links, aborting search!\")\n",
    "        break\n",
    "    article_chain.append(first_link)\n",
    "    time.sleep(4)\n",
    "\n",
    "\n",
    "X = [[g, r] for g, r in zip(genre_list, rating_list)]\n",
    "split = int(0.75*len(watchable_list))\n",
    "X_train = X[0:split]\n",
    "X_test  = X[split:]\n",
    "y_train = watchable_list[0:split]\n",
    "y_test  = watchable_list[split:] \n"
   ]
  },
  {
   "cell_type": "code",
   "execution_count": 6,
   "metadata": {},
   "outputs": [
    {
     "data": {
      "text/plain": [
       "<matplotlib.figure.Figure at 0x7f035a0b8358>"
      ]
     },
     "metadata": {},
     "output_type": "display_data"
    }
   ],
   "source": [
    "import matplotlib.pyplot as plt\n",
    "plt.scatter(genre_list,rating_list)\n",
    "plt.show()\n",
    "\n"
   ]
  },
  {
   "cell_type": "code",
   "execution_count": 7,
   "metadata": {},
   "outputs": [],
   "source": [
    "from sklearn.cluster import KMeans\n",
    "cls = KMeans(n_clusters=2)\n",
    "cls_fit = cls.fit(X_train)\n",
    "pred = cls_fit.predict(X_train)"
   ]
  },
  {
   "cell_type": "code",
   "execution_count": 8,
   "metadata": {},
   "outputs": [
    {
     "name": "stdout",
     "output_type": "stream",
     "text": [
      "[0 0 0 0 0 0 0 0 0 0 0 0 1 1 0 0 0 0 0 1 0 0 0 0 0 1 0 0 0 1 0 0 1 0 1 0 0\n",
      " 0 1 1 0 0 1 1 1 0 0 1 0 0 0 1 0 0 1 1 1 0 0 0 0 0 1 0 0 0 1 1 0 1 1 1 0 1\n",
      " 0 1 0 0 0 1 0 0 0 1 1 1 1 0 0 0 1 1 0 0 1 0 0 1 0 1 1 1 1 1 1 0 0 1 1 1 1\n",
      " 0 0 1 1 1 1 0 1 1 0 1 1 1 0 1 1 1 0 0 1 1 1 0 1 1 1 1 0 0 1 1 1 0 1 1 1 0\n",
      " 1 0 1 1 1 0 0 0 0 0 1 1 1 1 0 0 0 1 1 0 0 1 1 1 0 0 0 0 1 1 1 1 0 0 0 1 0\n",
      " 1 0]\n"
     ]
    }
   ],
   "source": [
    "print (pred)"
   ]
  },
  {
   "cell_type": "code",
   "execution_count": 9,
   "metadata": {},
   "outputs": [
    {
     "name": "stdout",
     "output_type": "stream",
     "text": [
      "KMeans(algorithm='auto', copy_x=True, init='k-means++', max_iter=300,\n",
      "    n_clusters=2, n_init=10, n_jobs=1, precompute_distances='auto',\n",
      "    random_state=None, tol=0.0001, verbose=0)\n"
     ]
    }
   ],
   "source": [
    "print(cls_fit)"
   ]
  },
  {
   "cell_type": "code",
   "execution_count": 10,
   "metadata": {},
   "outputs": [
    {
     "name": "stdout",
     "output_type": "stream",
     "text": [
      "[0 0 0 0 0 0 0 0 0 0 0 0 1 1 0 0 0 0 0 1 0 0 0 0 0 1 0 0 0 1 0 0 1 0 1 0 0\n",
      " 0 1 1 0 0 1 1 1 0 0 1 0 0 0 1 0 0 1 1 1 0 0 0 0 0 1 0 0 0 1 1 0 1 1 1 0 1\n",
      " 0 1 0 0 0 1 0 0 0 1 1 1 1 0 0 0 1 1 0 0 1 0 0 1 0 1 1 1 1 1 1 0 0 1 1 1 1\n",
      " 0 0 1 1 1 1 0 1 1 0 1 1 1 0 1 1 1 0 0 1 1 1 0 1 1 1 1 0 0 1 1 1 0 1 1 1 0\n",
      " 1 0 1 1 1 0 0 0 0 0 1 1 1 1 0 0 0 1 1 0 0 1 1 1 0 0 0 0 1 1 1 1 0 0 0 1 0\n",
      " 1 0]\n"
     ]
    }
   ],
   "source": [
    "print (cls_fit.labels_)"
   ]
  },
  {
   "cell_type": "code",
   "execution_count": 11,
   "metadata": {},
   "outputs": [
    {
     "name": "stdout",
     "output_type": "stream",
     "text": [
      "[0 1]\n"
     ]
    }
   ],
   "source": [
    "print (cls_fit.predict([[1, 1], [0.5, 0.5]]))"
   ]
  },
  {
   "cell_type": "code",
   "execution_count": 12,
   "metadata": {},
   "outputs": [
    {
     "name": "stdout",
     "output_type": "stream",
     "text": [
      "[[0.76127946 0.77373737]\n",
      " [0.64905303 0.63238636]]\n"
     ]
    }
   ],
   "source": [
    "print (cls_fit.cluster_centers_)"
   ]
  },
  {
   "cell_type": "code",
   "execution_count": 13,
   "metadata": {},
   "outputs": [],
   "source": [
    " \n",
    "def Draw(pred, features, poi, mark_poi=False, name=\"image.png\", f1_name=\"feature 1\", f2_name=\"feature 2\"):\n",
    "    \"\"\" some plotting code designed to help you visualize your clusters \"\"\"\n",
    "\n",
    "    ### plot each cluster with a different color--add more colors for\n",
    "    ### drawing more than five clusters\n",
    "    colors = [\"b\", \"c\", \"k\", \"m\", \"g\"]\n",
    "    for ii, pp in enumerate(pred):\n",
    "        plt.scatter(features[ii][0], features[ii][1], color = colors[pred[ii]])\n",
    "\n",
    "    ### if you like, place red stars over points that are POIs (just for funsies)\n",
    "    if mark_poi:\n",
    "        for ii, pp in enumerate(pred):\n",
    "            if poi[ii]:\n",
    "                plt.scatter(features[ii][0], features[ii][1], color=\"r\", marker=\"*\")\n",
    "    plt.xlabel(f1_name)\n",
    "    plt.ylabel(f2_name)\n",
    "    plt.savefig(name)\n",
    "    plt.show()\n"
   ]
  },
  {
   "cell_type": "code",
   "execution_count": 14,
   "metadata": {},
   "outputs": [
    {
     "data": {
      "image/png": "[encoded data removed]",
      "text/plain": [
       "<matplotlib.figure.Figure at 0x7f03312d0e10>"
      ]
     },
     "metadata": {
      "needs_background": "light"
     },
     "output_type": "display_data"
    }
   ],
   "source": [
    "\n",
    "try:\n",
    "    Draw(pred, X_train, y_train, mark_poi=False, name=\"clusters3.pdf\", f1_name=\"1\", f2_name=\"2\")\n",
    "except NameError:\n",
    "    print (\"no predictions object named pred found, no clusters to plot\")\n",
    "               "
   ]
  }
 ],
 "metadata": {
  "kernelspec": {
   "display_name": "Python 3",
   "language": "python",
   "name": "python3"
  },
  "language_info": {
   "codemirror_mode": {
    "name": "ipython",
    "version": 3
   },
   "file_extension": ".py",
   "mimetype": "text/x-python",
   "name": "python",
   "nbconvert_exporter": "python",
   "pygments_lexer": "ipython3",
   "version": "3.6.4"
  }
 },
 "nbformat": 4,
 "nbformat_minor": 2
}
