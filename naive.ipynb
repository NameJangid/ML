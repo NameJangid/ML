{
 "cells": [
  {
   "cell_type": "code",
   "execution_count": 3,
   "metadata": {},
   "outputs": [
    {
     "name": "stdout",
     "output_type": "stream",
     "text": [
      "http://www.imdb.com/search/title?year=2017&page=1&ref_=adv_nxt\n",
      "http://www.imdb.com/search/title?year=2017&page=2&ref_=adv_nxt\n",
      "http://www.imdb.com/search/title?year=2017&page=3&ref_=adv_nxt\n",
      "http://www.imdb.com/search/title?year=2017&page=4&ref_=adv_nxt\n",
      "http://www.imdb.com/search/title?year=2017&page=5&ref_=adv_nxt\n",
      "We've found the target article!\n"
     ]
    }
   ],
   "source": [
    "import time\n",
    "import urllib\n",
    "\n",
    "import bs4\n",
    "import requests\n",
    "\n",
    "\n",
    "start_url = \"http://www.imdb.com/search/title?year=2017&page=1&ref_=adv_nxt\"\n",
    "target_url=\"http://www.imdb.com/search/title?year=2017&page=6&ref_=adv_nxt\"\n",
    "\n",
    "title_list = []\n",
    "watchable_list = []\n",
    "genre_list = []\n",
    "rating_list = []\n",
    "\n",
    "def find_first_link(url):\n",
    "    response = requests.get(url)\n",
    "    html = response.text\n",
    "    soup = bs4.BeautifulSoup(html, \"html.parser\")\n",
    "    content_div = soup.find(class_=\"desc\").find(class_=\"lister-page-next next-page\")\n",
    "\n",
    "    #Section to do work\n",
    "    content_div2 = soup.find_all(class_=\"lister-item-content\")\n",
    "    \n",
    "    for content in content_div2:\n",
    "        score = 0.0\n",
    "        count = 0\n",
    "        genre = content.find(class_=\"genre\").get_text()\n",
    "        rating = content.find(class_=\"ratings-bar\").find(class_=\"inline-block ratings-imdb-rating\").get(\"data-value\")\n",
    "        \n",
    "        name = content.find(class_=\"lister-item-header\").a.get_text()\n",
    "        title_list.append(name)\n",
    "        if \"Action\" in genre:\n",
    "            score+=6\n",
    "            count+=10\n",
    "        if \"Adventure\" in genre:\n",
    "            score+=6\n",
    "            count+=10\n",
    "        if \"Comedy\" in genre:\n",
    "            score+=7\n",
    "            count+=10\n",
    "        if \"Crime\" in genre:\n",
    "            score+=6\n",
    "            count+=10\n",
    "        if \"Drama\" in genre:\n",
    "            score+=9\n",
    "            count+=10\n",
    "        if \"Fantasy\" in genre:\n",
    "            score+=6\n",
    "            count+=10\n",
    "        if \"Historical\" in genre:\n",
    "            score+=5\n",
    "            count+=10\n",
    "        if \"Biography\" in genre:\n",
    "            score+=6\n",
    "            count+=10\n",
    "        if \"Horror\" in genre:\n",
    "            score+=4\n",
    "            count+=10\n",
    "        if \"Mystery\" in genre:\n",
    "            score+=6\n",
    "            count+=10\n",
    "        if \"Musical\" in genre:\n",
    "            score+=8\n",
    "            count+=10\n",
    "        if \"Sci-Fi\" in genre:\n",
    "            score+=8\n",
    "            count+=10\n",
    "        if \"Romance\" in genre:\n",
    "            score+=8\n",
    "            count+=10\n",
    "        if \"Thriller\" in genre:\n",
    "            score+=7\n",
    "            count+=10\n",
    "\n",
    "        if count==0:\n",
    "            genre_score = 6    \n",
    "        else:    \n",
    "            genre_score = score/count\n",
    "\n",
    "        genre_list.append(genre_score)\n",
    "\n",
    "        rating_score = float(rating)/10.0\n",
    "        rating_list.append(rating_score)\n",
    "\n",
    "        total_score = genre_score + rating_score\n",
    "\n",
    "        if total_score>=1.33:\n",
    "            watchable_list.append(1.0)\n",
    "        else:\n",
    "            watchable_list.append(0.0)\n",
    "        \n",
    "    article_link = None\n",
    "    article_link = content_div.get('href')\n",
    "\n",
    "    if not article_link:\n",
    "        return\n",
    "    first_link = urllib.parse.urljoin('http://www.imdb.com/search/title', article_link)\n",
    "\n",
    "    return first_link\n",
    "\n",
    "def continue_crawl(search_history, target_url, max_steps=51):\n",
    "    if search_history[-1] == target_url:\n",
    "        print(\"We've found the target article!\")\n",
    "        return False\n",
    "    elif len(search_history) > max_steps:\n",
    "        print(\"The search has gone on suspiciously long, aborting search!\")\n",
    "        return False\n",
    "    elif search_history[-1] in search_history[:-1]:\n",
    "        print(\"We've arrived at an article we've already seen, aborting search!\")\n",
    "        return False\n",
    "    else:\n",
    "        return True\n",
    "\n",
    "article_chain = [start_url]\n",
    "\n",
    "while continue_crawl(article_chain, target_url):\n",
    "    print(article_chain[-1])\n",
    "\n",
    "    first_link = find_first_link(article_chain[-1])\n",
    "    if not first_link:\n",
    "        print(\"We've arrived at an article with no links, aborting search!\")\n",
    "        break\n",
    "    article_chain.append(first_link)\n",
    "    time.sleep(4)"
   ]
  },
  {
   "cell_type": "code",
   "execution_count": 4,
   "metadata": {},
   "outputs": [
    {
     "name": "stdout",
     "output_type": "stream",
     "text": [
      "['Big Mouth', 'Ozark', 'The Good Doctor', 'Star Trek: Discovery', 'The Gifted', 'La casa de papel', 'The Greatest Showman', \"The Handmaid's Tale\", 'The Deuce', 'The Sinner', 'SEAL Team', 'Young Sheldon', 'Iron Fist', 'S.W.A.T.', 'It', 'Atypical', 'The Shape of Water', 'American Vandal', 'Thor: Ragnarok', 'Justice League', 'Wonder', 'The Marvelous Mrs. Maisel', 'Taboo', 'Blade Runner 2049', 'Spider-Man: Homecoming', 'Murder on the Orient Express', 'American Gods', 'The Punisher', 'Mr. Mercedes', 'Star Wars: Episode VIII - The Last Jedi', '13 Reasons Why', 'Three Billboards Outside Ebbing, Missouri', 'Downsizing', 'Salvation', 'Truth or Dare', 'Coco', 'Call Me by Your Name', 'Mindhunter', 'Jumanji: Welcome to the Jungle', 'Terrifier', 'Snowfall', \"I'm Sorry\", 'Somewhere Between', 'Get Out', 'Creeped Out', 'Big Little Lies', 'Dunkirk', 'Wonder Woman', 'The Orville', 'Dark', 'Phantom Thread', 'Pitch Perfect 3', 'Guardians of the Galaxy Vol. 2', 'Hostiles', 'The Upside', 'Mother!', 'Pirates of the Caribbean: Dead Men Tell No Tales', 'Logan', 'Baby Driver', 'Babylon Berlin', 'Chappaquiddick', 'Beauty and the Beast', 'Kingsman: The Golden Circle', 'I, Tonya', 'Legion', 'Dynasty', 'All the Money in the World', 'Cold Skin', 'Wind River', 'Baywatch', 'Jigsaw', 'Leatherface', 'The Wife', 'Papillon', 'GLOW', 'The Endless', \"Molly's Game\", 'Midnight, Texas', 'Godless', \"Gerald's Game\", 'Disobedience', 'Lady Bird', 'The Disaster Artist', 'The Foreigner', 'Transformers: The Last Knight', 'A Prayer Before Dawn', 'Alien: Covenant', 'Darkest Hour', 'A Series of Unfortunate Events', 'Get Shorty', 'IMDb at New York Comic Con', 'You Were Never Really Here', 'First Reformed', 'Logan Lucky', 'Valerian and the City of a Thousand Planets', 'Runaways', 'Bodied', 'The Ritual', 'The Post', 'The Mummy', 'The Snowman', 'King Arthur: Legend of the Sword', 'Atomic Blonde', 'John Wick: Chapter 2', 'Suburbicon', 'Six', 'Future Man', 'Bright', 'Battle of the Sexes', 'The Defenders', 'The Babysitter', 'The Killing of a Sacred Deer', 'The End of the F***ing World', 'Fifty Shades Darker', 'Santa Clarita Diet', 'Loving Pablo', 'Geostorm', 'Only the Brave', 'Happy Death Day', 'The Guest Book', 'The Death of Stalin', \"The Hitman's Bodyguard\", 'Ferdinand', 'Annabelle: Creation', 'Las chicas del cable', 'Roman J. Israel, Esq.', 'Life', 'Power Rangers', 'The Good Fight', 'Counterpart', 'The Fate of the Furious', 'A Crooked Somebody', 'The IMDb Show', 'Stronger', 'Ghost Stories', 'Kong: Skull Island', 'Revenge', 'What Happened to Monday', 'Twin Peaks', 'Anne', 'The Circle', 'American Made', 'xXx: Return of Xander Cage', 'Andi Mack', 'Mom and Dad', 'Shine', 'Ghost in the Shell', 'Strike', 'American Assassin', 'Gifted', 'Errementari', '1922', 'CHIPS', 'War for the Planet of the Apes', 'Professor Marston and the Wonder Women', 'Happy!', 'Harlots', 'Okja', 'The Dark Tower', 'Britannia', 'The Mountain Between Us', 'Lore', 'Der Hauptmann', 'Electric Dreams', \"Raven's Home\", 'I Kill Giants', 'Hot Date', 'The Square', 'The Florida Project', 'Knightfall', 'Home Again', 'Girls Trip', 'The Glass Castle', 'Genius', 'Jamestown', 'Goodbye Christopher Robin', 'Verónica', \"Daddy's Home 2\", 'Hot Summer Nights', 'Taken', 'The Big Sick', 'Manhunt: Unabomber', 'El Chapo', 'It Comes at Night', 'The Children Act', 'Snatch', 'Cargo', 'Death Note', 'Al Hayba', 'Absentia', 'SPF-18', 'Good Time', 'Amar', 'Permission', 'The Boss Baby', 'Feud', 'The Mick', 'Shot Caller', 'Damascus Cover', 'Newness', 'Brawl in Cell Block 99', 'Anna and the Apocalypse', 'Cars 3', 'Ingobernable', 'Gypsy', 'Marrowbone', 'The Lodgers', 'Alias Grace', 'Paddington 2', 'Castlevania', 'A Ghost Story', 'Den 12. mann', 'Mata Batin', 'The Vietnam War', 'The Beguiled', 'My Friend Dahmer', \"A Dog's Purpose\", 'Housewife', 'Cult of Chucky', 'Despicable Me 3', 'S.M.A.R.T. Chase', 'Mudbound', 'Above Ground', 'Flatliners', 'Bad Blood', 'The Lego Batman Movie', 'Jeepers Creepers 3', 'Inhumans', 'Thoroughbreds', 'Tin Star', 'The Brave', 'Submergence', 'Song to Song', 'DuckTales', 'Claws', 'Wonder Wheel', 'The Mist', 'Everything, Everything', 'Mary Shelley', 'War Machine', 'Beast', 'Rough Night', '47 Meters Down', 'Detroit', 'Aterrados', 'Father Figures', 'Hagane no renkinjutsushi', 'Jack Whitehall: Travels with My Father', 'Stephanie', 'The Emoji Movie']\n",
      "[1.0, 1.0, 1.0, 1.0, 1.0, 1.0, 1.0, 1.0, 1.0, 1.0, 1.0, 1.0, 0.0, 0.0, 1.0, 1.0, 1.0, 1.0, 1.0, 0.0, 1.0, 1.0, 1.0, 1.0, 1.0, 1.0, 1.0, 1.0, 1.0, 0.0, 1.0, 1.0, 1.0, 1.0, 0.0, 1.0, 1.0, 1.0, 1.0, 0.0, 1.0, 1.0, 1.0, 1.0, 0.0, 1.0, 1.0, 1.0, 1.0, 1.0, 1.0, 0.0, 1.0, 1.0, 0.0, 0.0, 0.0, 1.0, 1.0, 1.0, 1.0, 1.0, 0.0, 1.0, 1.0, 1.0, 1.0, 0.0, 1.0, 0.0, 0.0, 0.0, 1.0, 1.0, 1.0, 0.0, 1.0, 1.0, 1.0, 0.0, 1.0, 1.0, 1.0, 1.0, 0.0, 0.0, 0.0, 1.0, 1.0, 1.0, 1.0, 1.0, 1.0, 1.0, 0.0, 1.0, 1.0, 0.0, 1.0, 0.0, 0.0, 1.0, 0.0, 1.0, 0.0, 1.0, 1.0, 0.0, 1.0, 1.0, 0.0, 1.0, 1.0, 0.0, 1.0, 0.0, 0.0, 1.0, 0.0, 1.0, 1.0, 1.0, 0.0, 0.0, 1.0, 1.0, 0.0, 0.0, 1.0, 1.0, 0.0, 1.0, 1.0, 1.0, 0.0, 0.0, 0.0, 1.0, 1.0, 1.0, 1.0, 1.0, 0.0, 1.0, 0.0, 1.0, 1.0, 1.0, 0.0, 1.0, 0.0, 0.0, 0.0, 1.0, 1.0, 1.0, 1.0, 1.0, 0.0, 1.0, 1.0, 0.0, 1.0, 1.0, 1.0, 1.0, 1.0, 1.0, 1.0, 1.0, 1.0, 1.0, 1.0, 1.0, 1.0, 1.0, 0.0, 0.0, 1.0, 1.0, 1.0, 1.0, 1.0, 0.0, 1.0, 1.0, 1.0, 0.0, 1.0, 1.0, 0.0, 1.0, 1.0, 1.0, 0.0, 1.0, 1.0, 1.0, 0.0, 1.0, 1.0, 0.0, 1.0, 1.0, 1.0, 0.0, 0.0, 1.0, 1.0, 1.0, 1.0, 1.0, 0.0, 1.0, 1.0, 0.0, 1.0, 0.0, 0.0, 0.0, 0.0, 1.0, 0.0, 0.0, 1.0, 1.0, 0.0, 0.0, 1.0, 1.0, 1.0, 1.0, 1.0, 1.0, 1.0, 1.0, 0.0, 1.0, 1.0, 1.0, 1.0, 0.0, 0.0, 1.0, 0.0, 0.0, 0.0, 1.0, 0.0, 0.0]\n",
      "[0.8099999999999999, 0.8400000000000001, 0.8400000000000001, 0.74, 0.76, 0.8699999999999999, 0.77, 0.86, 0.8099999999999999, 0.8, 0.7, 0.71, 0.67, 0.6599999999999999, 0.74, 0.8400000000000001, 0.74, 0.82, 0.79, 0.6599999999999999, 0.8, 0.8699999999999999, 0.85, 0.8, 0.75, 0.65, 0.8099999999999999, 0.86, 0.8, 0.72, 0.8099999999999999, 0.82, 0.5700000000000001, 0.71, 0.52, 0.8400000000000001, 0.8, 0.86, 0.7, 0.5700000000000001, 0.78, 0.75, 0.61, 0.77, 0.65, 0.86, 0.79, 0.75, 0.79, 0.86, 0.76, 0.5900000000000001, 0.77, 0.72, 0.45, 0.6599999999999999, 0.6599999999999999, 0.8099999999999999, 0.76, 0.8400000000000001, 0.65, 0.72, 0.6799999999999999, 0.75, 0.8400000000000001, 0.72, 0.6799999999999999, 0.6, 0.77, 0.5599999999999999, 0.58, 0.5, 0.74, 0.7, 0.8099999999999999, 0.65, 0.75, 0.75, 0.8400000000000001, 0.6599999999999999, 0.6599999999999999, 0.75, 0.74, 0.7, 0.52, 0.7, 0.64, 0.74, 0.79, 0.8, 0.61, 0.6900000000000001, 0.71, 0.7, 0.65, 0.73, 0.79, 0.63, 0.72, 0.55, 0.51, 0.6799999999999999, 0.67, 0.75, 0.5599999999999999, 0.73, 0.79, 0.64, 0.67, 0.75, 0.63, 0.7, 0.82, 0.45999999999999996, 0.78, 0.63, 0.53, 0.77, 0.65, 0.7, 0.72, 0.6900000000000001, 0.67, 0.65, 0.78, 0.64, 0.6599999999999999, 0.6, 0.8400000000000001, 0.8099999999999999, 0.67, 0.5900000000000001, 0.5700000000000001, 0.7, 0.64, 0.67, 0.63, 0.6900000000000001, 0.85, 0.85, 0.53, 0.72, 0.52, 0.75, 0.55, 0.47000000000000003, 0.64, 0.79, 0.62, 0.76, 0.64, 0.63, 0.6, 0.75, 0.71, 0.8300000000000001, 0.77, 0.73, 0.5700000000000001, 0.6599999999999999, 0.64, 0.6900000000000001, 0.75, 0.73, 0.77, 0.62, 0.7, 0.73, 0.76, 0.65, 0.58, 0.62, 0.71, 0.8400000000000001, 0.6900000000000001, 0.71, 0.62, 0.6, 0.64, 0.67, 0.76, 0.82, 0.79, 0.62, 0.67, 0.6900000000000001, 0.63, 0.45999999999999996, 0.77, 0.73, 0.32999999999999996, 0.73, 0.53, 0.53, 0.63, 0.86, 0.79, 0.73, 0.49000000000000005, 0.64, 0.71, 0.6799999999999999, 0.6799999999999999, 0.73, 0.7, 0.6599999999999999, 0.51, 0.79, 0.79, 0.8, 0.6799999999999999, 0.74, 0.51, 0.9199999999999999, 0.63, 0.63, 0.7, 0.5, 0.51, 0.63, 0.41, 0.74, 0.45999999999999996, 0.52, 0.72, 0.73, 0.41, 0.51, 0.6799999999999999, 0.73, 0.75, 0.53, 0.5700000000000001, 0.8300000000000001, 0.73, 0.62, 0.54, 0.64, 0.64, 0.6, 0.6900000000000001, 0.52, 0.5599999999999999, 0.74, 0.67, 0.54, 0.5900000000000001, 0.76, 0.58, 0.32]\n",
      "[0.75, 0.7333333333333333, 0.9, 0.7, 0.7, 0.6, 0.7666666666666667, 0.85, 0.9, 0.7, 0.75, 0.7, 0.6, 0.6, 0.6666666666666666, 0.8, 0.7, 0.7333333333333333, 0.6333333333333333, 0.6, 0.9, 0.8, 0.7333333333333333, 0.7666666666666667, 0.6666666666666666, 0.7, 0.7, 0.6, 0.7, 0.6, 0.75, 0.7333333333333333, 0.85, 0.8, 0.4, 0.65, 0.85, 0.7333333333333333, 0.6333333333333333, 0.55, 0.75, 0.7, 0.8, 0.5666666666666667, 0.65, 0.7, 0.75, 0.6, 0.7333333333333333, 0.7, 0.85, 0.7, 0.6333333333333333, 0.75, 0.8, 0.6333333333333333, 0.6, 0.7666666666666667, 0.7, 0.75, 0.8, 0.7, 0.6333333333333333, 0.7333333333333333, 0.7666666666666667, 0.9, 0.7, 0.6, 0.7, 0.6333333333333333, 0.5666666666666667, 0.5666666666666667, 0.9, 0.7, 0.8, 0.6, 0.7, 0.7, 0.9, 0.6666666666666666, 0.85, 0.8, 0.7333333333333333, 0.7, 0.6666666666666666, 0.6, 0.6333333333333333, 0.75, 0.7333333333333333, 0.65, 6, 0.7, 0.8, 0.7333333333333333, 0.6, 0.7666666666666667, 0.8, 0.5666666666666667, 0.75, 0.6, 0.7, 0.7, 0.6333333333333333, 0.6333333333333333, 0.7, 0.75, 0.7, 0.6, 0.7333333333333333, 0.6, 0.55, 0.7333333333333333, 0.7333333333333333, 0.85, 0.55, 0.6, 0.7, 0.75, 0.5666666666666667, 0.7, 0.8, 0.6666666666666666, 0.65, 0.5666666666666667, 0.9, 0.75, 0.6333333333333333, 0.6666666666666666, 0.9, 0.8, 0.6333333333333333, 0.8, 6, 0.75, 0.65, 0.6, 0.5666666666666667, 0.7, 0.7, 0.9, 0.8, 0.6333333333333333, 0.6333333333333333, 0.7, 0.6, 0.9, 0.7666666666666667, 0.7, 0.65, 0.9, 0.5, 0.6333333333333333, 0.6333333333333333, 0.7, 0.75, 0.6333333333333333, 0.9, 0.7, 0.6, 0.7, 0.7, 0.4, 0.9, 0.8, 0.7, 0.7333333333333333, 0.7, 0.8, 0.9, 0.7, 0.8, 0.8, 0.75, 0.75, 0.9, 0.75, 0.4, 0.7, 0.7333333333333333, 0.7333333333333333, 0.8, 0.75, 0.75, 0.5, 0.9, 0.65, 0.8, 0.7, 0.7, 0.7, 0.8, 0.7333333333333333, 0.85, 0.8, 0.65, 0.75, 0.7, 0.7333333333333333, 0.65, 0.85, 0.75, 0.5666666666666667, 0.65, 0.7, 0.8, 0.6666666666666666, 0.7, 0.7, 0.65, 0.6, 0.7666666666666667, 0.8, 0.55, 6, 0.8, 0.6333333333333333, 0.7333333333333333, 0.4, 0.55, 0.6, 0.6, 0.9, 0.7333333333333333, 0.8, 0.75, 0.65, 0.5333333333333333, 0.6666666666666666, 0.7333333333333333, 0.7333333333333333, 0.7333333333333333, 0.8, 0.85, 0.65, 0.7333333333333333, 0.9, 0.7, 0.85, 0.7666666666666667, 0.8, 0.7, 0.6666666666666666, 0.6333333333333333, 0.75, 0.4, 0.7, 0.6, 0.7, 0.6333333333333333, 0.65]\n"
     ]
    }
   ],
   "source": [
    "print (title_list)\n",
    "print(watchable_list)\n",
    "print(rating_list)\n",
    "print(genre_list)"
   ]
  },
  {
   "cell_type": "code",
   "execution_count": 5,
   "metadata": {},
   "outputs": [
    {
     "name": "stdout",
     "output_type": "stream",
     "text": [
      "[[0.75, 0.8099999999999999], [0.7333333333333333, 0.8400000000000001], [0.9, 0.8400000000000001], [0.7, 0.74], [0.7, 0.76], [0.6, 0.8699999999999999], [0.7666666666666667, 0.77], [0.85, 0.86], [0.9, 0.8099999999999999], [0.7, 0.8], [0.75, 0.7], [0.7, 0.71], [0.6, 0.67], [0.6, 0.6599999999999999], [0.6666666666666666, 0.74], [0.8, 0.8400000000000001], [0.7, 0.74], [0.7333333333333333, 0.82], [0.6333333333333333, 0.79], [0.6, 0.6599999999999999], [0.9, 0.8], [0.8, 0.8699999999999999], [0.7333333333333333, 0.85], [0.7666666666666667, 0.8], [0.6666666666666666, 0.75], [0.7, 0.65], [0.7, 0.8099999999999999], [0.6, 0.86], [0.7, 0.8], [0.6, 0.72], [0.75, 0.8099999999999999], [0.7333333333333333, 0.82], [0.85, 0.5700000000000001], [0.8, 0.71], [0.4, 0.52], [0.65, 0.8400000000000001], [0.85, 0.8], [0.7333333333333333, 0.86], [0.6333333333333333, 0.7], [0.55, 0.5700000000000001], [0.75, 0.78], [0.7, 0.75], [0.8, 0.61], [0.5666666666666667, 0.77], [0.65, 0.65], [0.7, 0.86], [0.75, 0.79], [0.6, 0.75], [0.7333333333333333, 0.79], [0.7, 0.86], [0.85, 0.76], [0.7, 0.5900000000000001], [0.6333333333333333, 0.77], [0.75, 0.72], [0.8, 0.45], [0.6333333333333333, 0.6599999999999999], [0.6, 0.6599999999999999], [0.7666666666666667, 0.8099999999999999], [0.7, 0.76], [0.75, 0.8400000000000001], [0.8, 0.65], [0.7, 0.72], [0.6333333333333333, 0.6799999999999999], [0.7333333333333333, 0.75], [0.7666666666666667, 0.8400000000000001], [0.9, 0.72], [0.7, 0.6799999999999999], [0.6, 0.6], [0.7, 0.77], [0.6333333333333333, 0.5599999999999999], [0.5666666666666667, 0.58], [0.5666666666666667, 0.5], [0.9, 0.74], [0.7, 0.7], [0.8, 0.8099999999999999], [0.6, 0.65], [0.7, 0.75], [0.7, 0.75], [0.9, 0.8400000000000001], [0.6666666666666666, 0.6599999999999999], [0.85, 0.6599999999999999], [0.8, 0.75], [0.7333333333333333, 0.74], [0.7, 0.7], [0.6666666666666666, 0.52], [0.6, 0.7], [0.6333333333333333, 0.64], [0.75, 0.74], [0.7333333333333333, 0.79], [0.65, 0.8], [6, 0.61], [0.7, 0.6900000000000001], [0.8, 0.71], [0.7333333333333333, 0.7], [0.6, 0.65], [0.7666666666666667, 0.73], [0.8, 0.79], [0.5666666666666667, 0.63], [0.75, 0.72], [0.6, 0.55], [0.7, 0.51], [0.7, 0.6799999999999999], [0.6333333333333333, 0.67], [0.6333333333333333, 0.75], [0.7, 0.5599999999999999], [0.75, 0.73], [0.7, 0.79], [0.6, 0.64], [0.7333333333333333, 0.67], [0.6, 0.75], [0.55, 0.63], [0.7333333333333333, 0.7], [0.7333333333333333, 0.82], [0.85, 0.45999999999999996], [0.55, 0.78], [0.6, 0.63], [0.7, 0.53], [0.75, 0.77], [0.5666666666666667, 0.65], [0.7, 0.7], [0.8, 0.72], [0.6666666666666666, 0.6900000000000001], [0.65, 0.67], [0.5666666666666667, 0.65], [0.9, 0.78], [0.75, 0.64], [0.6333333333333333, 0.6599999999999999], [0.6666666666666666, 0.6], [0.9, 0.8400000000000001], [0.8, 0.8099999999999999], [0.6333333333333333, 0.67], [0.8, 0.5900000000000001], [6, 0.5700000000000001], [0.75, 0.7], [0.65, 0.64], [0.6, 0.67], [0.5666666666666667, 0.63], [0.7, 0.6900000000000001], [0.7, 0.85], [0.9, 0.85], [0.8, 0.53], [0.6333333333333333, 0.72], [0.6333333333333333, 0.52], [0.7, 0.75], [0.6, 0.55], [0.9, 0.47000000000000003], [0.7666666666666667, 0.64], [0.7, 0.79], [0.65, 0.62], [0.9, 0.76], [0.5, 0.64], [0.6333333333333333, 0.63], [0.6333333333333333, 0.6], [0.7, 0.75], [0.75, 0.71], [0.6333333333333333, 0.8300000000000001], [0.9, 0.77], [0.7, 0.73], [0.6, 0.5700000000000001], [0.7, 0.6599999999999999], [0.7, 0.64], [0.4, 0.6900000000000001], [0.9, 0.75], [0.8, 0.73], [0.7, 0.77], [0.7333333333333333, 0.62], [0.7, 0.7], [0.8, 0.73], [0.9, 0.76], [0.7, 0.65], [0.8, 0.58], [0.8, 0.62], [0.75, 0.71], [0.75, 0.8400000000000001], [0.9, 0.6900000000000001], [0.75, 0.71], [0.4, 0.62], [0.7, 0.6], [0.7333333333333333, 0.64], [0.7333333333333333, 0.67], [0.8, 0.76], [0.75, 0.82], [0.75, 0.79], [0.5, 0.62], [0.9, 0.67], [0.65, 0.6900000000000001], [0.8, 0.63], [0.7, 0.45999999999999996], [0.7, 0.77], [0.7, 0.73], [0.8, 0.32999999999999996], [0.7333333333333333, 0.73], [0.85, 0.53], [0.8, 0.53], [0.65, 0.63], [0.75, 0.86], [0.7, 0.79], [0.7333333333333333, 0.73], [0.65, 0.49000000000000005], [0.85, 0.64], [0.75, 0.71], [0.5666666666666667, 0.6799999999999999], [0.65, 0.6799999999999999], [0.7, 0.73], [0.8, 0.7], [0.6666666666666666, 0.6599999999999999], [0.7, 0.51], [0.7, 0.79], [0.65, 0.79], [0.6, 0.8], [0.7666666666666667, 0.6799999999999999], [0.8, 0.74], [0.55, 0.51], [6, 0.9199999999999999], [0.8, 0.63], [0.6333333333333333, 0.63], [0.7333333333333333, 0.7], [0.4, 0.5], [0.55, 0.51], [0.6, 0.63], [0.6, 0.41], [0.9, 0.74], [0.7333333333333333, 0.45999999999999996], [0.8, 0.52], [0.75, 0.72], [0.65, 0.73], [0.5333333333333333, 0.41], [0.6666666666666666, 0.51], [0.7333333333333333, 0.6799999999999999], [0.7333333333333333, 0.73], [0.7333333333333333, 0.75], [0.8, 0.53], [0.85, 0.5700000000000001], [0.65, 0.8300000000000001], [0.7333333333333333, 0.73], [0.9, 0.62], [0.7, 0.54], [0.85, 0.64], [0.7666666666666667, 0.64], [0.8, 0.6], [0.7, 0.6900000000000001], [0.6666666666666666, 0.52], [0.6333333333333333, 0.5599999999999999], [0.75, 0.74], [0.4, 0.67], [0.7, 0.54], [0.6, 0.5900000000000001], [0.7, 0.76], [0.6333333333333333, 0.58], [0.65, 0.32]]\n",
      "[1.0, 1.0, 1.0, 1.0, 1.0, 1.0, 1.0, 1.0, 1.0, 1.0, 1.0, 1.0, 0.0, 0.0, 1.0, 1.0, 1.0, 1.0, 1.0, 0.0, 1.0, 1.0, 1.0, 1.0, 1.0, 1.0, 1.0, 1.0, 1.0, 0.0, 1.0, 1.0, 1.0, 1.0, 0.0, 1.0, 1.0, 1.0, 1.0, 0.0, 1.0, 1.0, 1.0, 1.0, 0.0, 1.0, 1.0, 1.0, 1.0, 1.0, 1.0, 0.0, 1.0, 1.0, 0.0, 0.0, 0.0, 1.0, 1.0, 1.0, 1.0, 1.0, 0.0, 1.0, 1.0, 1.0, 1.0, 0.0, 1.0, 0.0, 0.0, 0.0, 1.0, 1.0, 1.0, 0.0, 1.0, 1.0, 1.0, 0.0, 1.0, 1.0, 1.0, 1.0, 0.0, 0.0, 0.0, 1.0, 1.0, 1.0, 1.0, 1.0, 1.0, 1.0, 0.0, 1.0, 1.0, 0.0, 1.0, 0.0, 0.0, 1.0, 0.0, 1.0, 0.0, 1.0, 1.0, 0.0, 1.0, 1.0, 0.0, 1.0, 1.0, 0.0, 1.0, 0.0, 0.0, 1.0, 0.0, 1.0, 1.0, 1.0, 0.0, 0.0, 1.0, 1.0, 0.0, 0.0, 1.0, 1.0, 0.0, 1.0, 1.0, 1.0, 0.0, 0.0, 0.0, 1.0, 1.0, 1.0, 1.0, 1.0, 0.0, 1.0, 0.0, 1.0, 1.0, 1.0, 0.0, 1.0, 0.0, 0.0, 0.0, 1.0, 1.0, 1.0, 1.0, 1.0, 0.0, 1.0, 1.0, 0.0, 1.0, 1.0, 1.0, 1.0, 1.0, 1.0, 1.0, 1.0, 1.0, 1.0, 1.0, 1.0, 1.0, 1.0, 0.0, 0.0, 1.0, 1.0, 1.0, 1.0, 1.0, 0.0, 1.0, 1.0, 1.0, 0.0, 1.0, 1.0, 0.0, 1.0, 1.0, 1.0, 0.0, 1.0, 1.0, 1.0, 0.0, 1.0, 1.0, 0.0, 1.0, 1.0, 1.0, 0.0, 0.0, 1.0, 1.0, 1.0, 1.0, 1.0, 0.0, 1.0, 1.0, 0.0, 1.0, 0.0, 0.0, 0.0, 0.0, 1.0, 0.0, 0.0, 1.0, 1.0, 0.0, 0.0, 1.0, 1.0, 1.0, 1.0, 1.0, 1.0, 1.0, 1.0, 0.0, 1.0, 1.0, 1.0, 1.0, 0.0, 0.0, 1.0, 0.0, 0.0, 0.0, 1.0, 0.0, 0.0]\n"
     ]
    }
   ],
   "source": [
    "X = [[g, r] for g, r in zip(genre_list, rating_list)]\n",
    "print (X)\n",
    "print(watchable_list)"
   ]
  },
  {
   "cell_type": "code",
   "execution_count": 6,
   "metadata": {},
   "outputs": [
    {
     "name": "stdout",
     "output_type": "stream",
     "text": [
      "250\n"
     ]
    }
   ],
   "source": [
    "print (len(watchable_list))"
   ]
  },
  {
   "cell_type": "code",
   "execution_count": 7,
   "metadata": {},
   "outputs": [],
   "source": [
    "split = int(0.75*len(watchable_list))\n",
    "X_train = X[0:split]\n",
    "X_test  = X[split:]\n",
    "y_train = watchable_list[0:split]\n",
    "y_test  = watchable_list[split:]"
   ]
  },
  {
   "cell_type": "code",
   "execution_count": 8,
   "metadata": {},
   "outputs": [
    {
     "name": "stdout",
     "output_type": "stream",
     "text": [
      "[[0.75, 0.8099999999999999], [0.7333333333333333, 0.8400000000000001], [0.9, 0.8400000000000001], [0.7, 0.74], [0.7, 0.76], [0.6, 0.8699999999999999], [0.7666666666666667, 0.77], [0.85, 0.86], [0.9, 0.8099999999999999], [0.7, 0.8], [0.75, 0.7], [0.7, 0.71], [0.6, 0.67], [0.6, 0.6599999999999999], [0.6666666666666666, 0.74], [0.8, 0.8400000000000001], [0.7, 0.74], [0.7333333333333333, 0.82], [0.6333333333333333, 0.79], [0.6, 0.6599999999999999], [0.9, 0.8], [0.8, 0.8699999999999999], [0.7333333333333333, 0.85], [0.7666666666666667, 0.8], [0.6666666666666666, 0.75], [0.7, 0.65], [0.7, 0.8099999999999999], [0.6, 0.86], [0.7, 0.8], [0.6, 0.72], [0.75, 0.8099999999999999], [0.7333333333333333, 0.82], [0.85, 0.5700000000000001], [0.8, 0.71], [0.4, 0.52], [0.65, 0.8400000000000001], [0.85, 0.8], [0.7333333333333333, 0.86], [0.6333333333333333, 0.7], [0.55, 0.5700000000000001], [0.75, 0.78], [0.7, 0.75], [0.8, 0.61], [0.5666666666666667, 0.77], [0.65, 0.65], [0.7, 0.86], [0.75, 0.79], [0.6, 0.75], [0.7333333333333333, 0.79], [0.7, 0.86], [0.85, 0.76], [0.7, 0.5900000000000001], [0.6333333333333333, 0.77], [0.75, 0.72], [0.8, 0.45], [0.6333333333333333, 0.6599999999999999], [0.6, 0.6599999999999999], [0.7666666666666667, 0.8099999999999999], [0.7, 0.76], [0.75, 0.8400000000000001], [0.8, 0.65], [0.7, 0.72], [0.6333333333333333, 0.6799999999999999], [0.7333333333333333, 0.75], [0.7666666666666667, 0.8400000000000001], [0.9, 0.72], [0.7, 0.6799999999999999], [0.6, 0.6], [0.7, 0.77], [0.6333333333333333, 0.5599999999999999], [0.5666666666666667, 0.58], [0.5666666666666667, 0.5], [0.9, 0.74], [0.7, 0.7], [0.8, 0.8099999999999999], [0.6, 0.65], [0.7, 0.75], [0.7, 0.75], [0.9, 0.8400000000000001], [0.6666666666666666, 0.6599999999999999], [0.85, 0.6599999999999999], [0.8, 0.75], [0.7333333333333333, 0.74], [0.7, 0.7], [0.6666666666666666, 0.52], [0.6, 0.7], [0.6333333333333333, 0.64], [0.75, 0.74], [0.7333333333333333, 0.79], [0.65, 0.8], [6, 0.61], [0.7, 0.6900000000000001], [0.8, 0.71], [0.7333333333333333, 0.7], [0.6, 0.65], [0.7666666666666667, 0.73], [0.8, 0.79], [0.5666666666666667, 0.63], [0.75, 0.72], [0.6, 0.55], [0.7, 0.51], [0.7, 0.6799999999999999], [0.6333333333333333, 0.67], [0.6333333333333333, 0.75], [0.7, 0.5599999999999999], [0.75, 0.73], [0.7, 0.79], [0.6, 0.64], [0.7333333333333333, 0.67], [0.6, 0.75], [0.55, 0.63], [0.7333333333333333, 0.7], [0.7333333333333333, 0.82], [0.85, 0.45999999999999996], [0.55, 0.78], [0.6, 0.63], [0.7, 0.53], [0.75, 0.77], [0.5666666666666667, 0.65], [0.7, 0.7], [0.8, 0.72], [0.6666666666666666, 0.6900000000000001], [0.65, 0.67], [0.5666666666666667, 0.65], [0.9, 0.78], [0.75, 0.64], [0.6333333333333333, 0.6599999999999999], [0.6666666666666666, 0.6], [0.9, 0.8400000000000001], [0.8, 0.8099999999999999], [0.6333333333333333, 0.67], [0.8, 0.5900000000000001], [6, 0.5700000000000001], [0.75, 0.7], [0.65, 0.64], [0.6, 0.67], [0.5666666666666667, 0.63], [0.7, 0.6900000000000001], [0.7, 0.85], [0.9, 0.85], [0.8, 0.53], [0.6333333333333333, 0.72], [0.6333333333333333, 0.52], [0.7, 0.75], [0.6, 0.55], [0.9, 0.47000000000000003], [0.7666666666666667, 0.64], [0.7, 0.79], [0.65, 0.62], [0.9, 0.76], [0.5, 0.64], [0.6333333333333333, 0.63], [0.6333333333333333, 0.6], [0.7, 0.75], [0.75, 0.71], [0.6333333333333333, 0.8300000000000001], [0.9, 0.77], [0.7, 0.73], [0.6, 0.5700000000000001], [0.7, 0.6599999999999999], [0.7, 0.64], [0.4, 0.6900000000000001], [0.9, 0.75], [0.8, 0.73], [0.7, 0.77], [0.7333333333333333, 0.62], [0.7, 0.7], [0.8, 0.73], [0.9, 0.76], [0.7, 0.65], [0.8, 0.58], [0.8, 0.62], [0.75, 0.71], [0.75, 0.8400000000000001], [0.9, 0.6900000000000001], [0.75, 0.71], [0.4, 0.62], [0.7, 0.6], [0.7333333333333333, 0.64], [0.7333333333333333, 0.67], [0.8, 0.76], [0.75, 0.82], [0.75, 0.79], [0.5, 0.62], [0.9, 0.67], [0.65, 0.6900000000000001], [0.8, 0.63]]\n"
     ]
    }
   ],
   "source": [
    "print (X_train)"
   ]
  },
  {
   "cell_type": "code",
   "execution_count": 9,
   "metadata": {},
   "outputs": [
    {
     "name": "stdout",
     "output_type": "stream",
     "text": [
      "\n",
      "accuracy = 0.8888888888888888\n"
     ]
    }
   ],
   "source": [
    "from sklearn.naive_bayes import GaussianNB\n",
    "clf = GaussianNB()\n",
    "clf.fit(X_train,y_train)\n",
    "\n",
    "from sklearn.metrics import accuracy_score\n",
    "pred = clf.predict(X_test)\n",
    "accuracy = accuracy_score(pred, y_test)\n",
    "\n",
    "print ('\\naccuracy = {0}'.format(accuracy))"
   ]
  },
  {
   "cell_type": "code",
   "execution_count": 10,
   "metadata": {},
   "outputs": [],
   "source": [
    "\n",
    "#!/usr/bin/python\n",
    "\n",
    "#from udacityplots import *\n",
    "import warnings\n",
    "warnings.filterwarnings(\"ignore\")\n",
    "\n",
    "import matplotlib \n",
    "matplotlib.use('agg')\n",
    "\n",
    "import matplotlib.pyplot as plt\n",
    "import pylab as pl\n",
    "import numpy as np\n",
    "\n",
    "#import numpy as np\n",
    "#import matplotlib.pyplot as plt\n",
    "#plt.ioff()\n",
    "\n",
    "def prettyPicture(clf, X_test, y_test):\n",
    "    x_min = 0.0; x_max = 1.0\n",
    "    y_min = 0.0; y_max = 1.0\n",
    "\n",
    "    # Plot the decision boundary. For that, we will assign a color to each\n",
    "    # point in the mesh [x_min, m_max]x[y_min, y_max].\n",
    "    h = .01  # step size in the mesh\n",
    "    xx, yy = np.meshgrid(np.arange(x_min, x_max, h), np.arange(y_min, y_max, h))\n",
    "    Z = clf.predict(np.c_[xx.ravel(), yy.ravel()])\n",
    "\n",
    "    # Put the result into a color plot\n",
    "    Z = Z.reshape(xx.shape)\n",
    "    plt.xlim(xx.min(), xx.max())\n",
    "    plt.ylim(yy.min(), yy.max())\n",
    "\n",
    "    plt.pcolormesh(xx, yy, Z, cmap=pl.cm.seismic)\n",
    "\n",
    "    # Plot also the test points\n",
    "    grade_sig = [X_test[ii][0] for ii in range(0, len(X_test)) if y_test[ii]==0]\n",
    "    bumpy_sig = [X_test[ii][1] for ii in range(0, len(X_test)) if y_test[ii]==0]\n",
    "    grade_bkg = [X_test[ii][0] for ii in range(0, len(X_test)) if y_test[ii]==1]\n",
    "    bumpy_bkg = [X_test[ii][1] for ii in range(0, len(X_test)) if y_test[ii]==1]\n",
    "\n",
    "    plt.scatter(grade_sig, bumpy_sig, color = \"b\", label=\"fast\")\n",
    "    plt.scatter(grade_bkg, bumpy_bkg, color = \"r\", label=\"slow\")\n",
    "    plt.legend()\n",
    "    plt.xlabel(\"bumpiness\")\n",
    "    plt.ylabel(\"grade\")\n",
    "\n",
    "    plt.savefig(\"test.png\")\n",
    "    \n",
    "import base64\n",
    "import json\n",
    "import subprocess\n",
    "\n",
    "def output_image(name, format, bytes):\n",
    "    image_start = \"BEGIN_IMAGE_f9825uweof8jw9fj4r8\"\n",
    "    image_end = \"END_IMAGE_0238jfw08fjsiufhw8frs\"\n",
    "    data = {}\n",
    "    data['name'] = name\n",
    "    data['format'] = format\n",
    "    data['bytes'] = base64.encodestring(bytes)\n",
    "    print (image_start+json.dumps(data)+image_end)"
   ]
  },
  {
   "cell_type": "code",
   "execution_count": 11,
   "metadata": {},
   "outputs": [],
   "source": [
    "### draw the decision boundary with the text points overlaid\n",
    "prettyPicture(clf, X_test, y_test)\n",
    "#output_image(\"test.png\", \"png\", open(\"test.png\", \"rb\").read())"
   ]
  },
  {
   "cell_type": "code",
   "execution_count": 12,
   "metadata": {},
   "outputs": [
    {
     "name": "stdout",
     "output_type": "stream",
     "text": [
      "training time: 0.002 s\n",
      "predicting time: 0.0 s\n",
      "0.8253968253968254\n"
     ]
    }
   ],
   "source": [
    "import sys\n",
    "from time import time\n",
    "\n",
    "from sklearn.svm import SVC\n",
    "clf = SVC(kernel=\"rbf\")\n",
    "#clf = SVC(kernel=\"linear\")\n",
    "\n",
    "\n",
    "#features_train = features_train[:len(features_train)/100] \n",
    "#labels_train = labels_train[:len(labels_train)/100] \n",
    "\n",
    "t0 = time()\n",
    "clf.fit(X_train, y_train)\n",
    "print (\"training time:\", round(time()-t0, 3), \"s\")\n",
    "\n",
    "t1 = time()\n",
    "pred = clf.predict(X_test)\n",
    "print (\"predicting time:\", round(time()-t1, 3), \"s\")\n",
    "\n",
    "from sklearn.metrics import accuracy_score\n",
    "acc = accuracy_score(pred, y_test)\n",
    "\n",
    "print(acc)"
   ]
  },
  {
   "cell_type": "code",
   "execution_count": 13,
   "metadata": {},
   "outputs": [
    {
     "name": "stdout",
     "output_type": "stream",
     "text": [
      "training time: 0.002 s\n",
      "predicting time: 0.0 s\n",
      "0.9841269841269841\n"
     ]
    }
   ],
   "source": [
    "#Decision tree\n",
    "from sklearn import tree\n",
    "\n",
    "clf = tree.DecisionTreeClassifier()\n",
    "\n",
    "t0 = time()\n",
    "clf.fit(X_train, y_train)\n",
    "print (\"training time:\", round(time()-t0, 3), \"s\")\n",
    "\n",
    "t1 = time()\n",
    "pred = clf.predict(X_test)\n",
    "print (\"predicting time:\", round(time()-t1, 3), \"s\")\n",
    "\n",
    "from sklearn.metrics import accuracy_score\n",
    "acc = accuracy_score(pred, y_test)\n",
    "\n",
    "print(acc)\n",
    "\n",
    "\n",
    "#### grader code, do not modify below this line\n",
    "\n",
    "prettyPicture(clf, X_test, y_test)"
   ]
  },
  {
   "cell_type": "code",
   "execution_count": null,
   "metadata": {},
   "outputs": [],
   "source": []
  }
 ],
 "metadata": {
  "kernelspec": {
   "display_name": "Python 3",
   "language": "python",
   "name": "python3"
  },
  "language_info": {
   "codemirror_mode": {
    "name": "ipython",
    "version": 3
   },
   "file_extension": ".py",
   "mimetype": "text/x-python",
   "name": "python",
   "nbconvert_exporter": "python",
   "pygments_lexer": "ipython3",
   "version": "3.6.4"
  }
 },
 "nbformat": 4,
 "nbformat_minor": 2
}
