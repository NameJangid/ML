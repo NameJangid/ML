{
 "cells": [
  {
   "cell_type": "code",
   "execution_count": 1,
   "metadata": {},
   "outputs": [],
   "source": [
    "import time\n",
    "import urllib\n",
    "\n",
    "import bs4\n",
    "import requests"
   ]
  },
  {
   "cell_type": "code",
   "execution_count": 2,
   "metadata": {},
   "outputs": [],
   "source": [
    "start_url = \"http://www.imdb.com/search/title?year=2017&page=1&ref_=adv_nxt\"\n",
    "target_url=\"http://www.imdb.com/search/title?year=2017&page=10&ref_=adv_nxt\"\n",
    "\n",
    "title_list = []\n",
    "rating_list = []\n",
    "metascore_list=[]"
   ]
  },
  {
   "cell_type": "code",
   "execution_count": 3,
   "metadata": {},
   "outputs": [],
   "source": [
    "def find_first_link(url):\n",
    "    response = requests.get(url)\n",
    "    html = response.text\n",
    "    soup = bs4.BeautifulSoup(html, \"html.parser\")\n",
    "    content_div = soup.find(class_=\"desc\").find(class_=\"lister-page-next next-page\")\n",
    "\n",
    "    #Section to do work\n",
    "    content_div2 = soup.find_all(class_=\"lister-item-content\")\n",
    "    \n",
    "    for content in content_div2:\n",
    "        \n",
    "        rating_bar = content.find(class_=\"ratings-bar\")\n",
    "        meta_bar = content.find(class_=\"inline-block ratings-metascore\")\n",
    "        if (rating_bar != None) and (meta_bar != None):\n",
    "          rating = content.find(class_=\"ratings-bar\").find(class_=\"inline-block ratings-imdb-rating\").get(\"data-value\")  \n",
    "          \n",
    "          name = content.find(class_=\"lister-item-header\").a.get_text()\n",
    "          title_list.append(name)\n",
    "        \n",
    "          rating_score = float(rating)*10.0\n",
    "          rating_list.append(rating_score)\n",
    "        \n",
    "          metascore_mixed = content.find(class_=\"inline-block ratings-metascore\").find(class_=\"metascore mixed\")\n",
    "          metascore_fav = content.find(class_=\"inline-block ratings-metascore\").find(class_=\"metascore favorable\")\n",
    "          metascore_unfav = content.find(class_=\"inline-block ratings-metascore\").find(class_=\"metascore unfavorable\")\n",
    "             \n",
    "          if metascore_mixed!=None:\n",
    "            metascore_list.append(int(metascore_mixed.get_text()))\n",
    "          elif metascore_fav!=None:\n",
    "            metascore_list.append(int(metascore_fav.get_text()))\n",
    "          elif metascore_unfav!=None:\n",
    "            metascore_list.append(int(metascore_unfav.get_text()))\n",
    "    \n",
    "    article_link = None\n",
    "    article_link = content_div.get('href')\n",
    "\n",
    "    if not article_link:\n",
    "        return\n",
    "    first_link = urllib.parse.urljoin('http://www.imdb.com/search/title', article_link)\n",
    "\n",
    "    return first_link"
   ]
  },
  {
   "cell_type": "code",
   "execution_count": 4,
   "metadata": {},
   "outputs": [],
   "source": [
    "def continue_crawl(search_history, target_url, max_steps=51):\n",
    "    if search_history[-1] == target_url:\n",
    "        print(\"We've found the target article!\")\n",
    "        return False\n",
    "    elif len(search_history) > max_steps:\n",
    "        print(\"The search has gone on suspiciously long, aborting search!\")\n",
    "        return False\n",
    "    elif search_history[-1] in search_history[:-1]:\n",
    "        print(\"We've arrived at an article we've already seen, aborting search!\")\n",
    "        return False\n",
    "    else:\n",
    "        return True"
   ]
  },
  {
   "cell_type": "code",
   "execution_count": 5,
   "metadata": {},
   "outputs": [
    {
     "name": "stdout",
     "output_type": "stream",
     "text": [
      "http://www.imdb.com/search/title?year=2017&page=1&ref_=adv_nxt\n",
      "http://www.imdb.com/search/title?year=2017&page=2&ref_=adv_nxt\n",
      "http://www.imdb.com/search/title?year=2017&page=3&ref_=adv_nxt\n",
      "http://www.imdb.com/search/title?year=2017&page=4&ref_=adv_nxt\n",
      "http://www.imdb.com/search/title?year=2017&page=5&ref_=adv_nxt\n",
      "http://www.imdb.com/search/title?year=2017&page=6&ref_=adv_nxt\n",
      "http://www.imdb.com/search/title?year=2017&page=7&ref_=adv_nxt\n",
      "http://www.imdb.com/search/title?year=2017&page=8&ref_=adv_nxt\n",
      "http://www.imdb.com/search/title?year=2017&page=9&ref_=adv_nxt\n",
      "We've found the target article!\n"
     ]
    }
   ],
   "source": [
    "article_chain = [start_url]\n",
    "\n",
    "while continue_crawl(article_chain, target_url):\n",
    "    print(article_chain[-1])\n",
    "\n",
    "    first_link = find_first_link(article_chain[-1])\n",
    "    if not first_link:\n",
    "        print(\"We've arrived at an article with no links, aborting search!\")\n",
    "        break\n",
    "    article_chain.append(first_link)\n",
    "    time.sleep(4)"
   ]
  },
  {
   "cell_type": "code",
   "execution_count": 6,
   "metadata": {},
   "outputs": [
    {
     "name": "stdout",
     "output_type": "stream",
     "text": [
      "[77.0, 74.0, 74.0, 79.0, 66.0, 80.0, 80.0, 75.0, 65.0, 72.0, 82.0, 57.0, 84.0, 80.0, 70.0, 77.0, 79.0, 75.0, 76.0, 59.0, 77.0, 72.0, 45.0, 66.0, 66.0, 81.0, 76.0, 65.0, 72.0, 68.0, 75.0, 69.0, 77.0, 56.0, 58.0, 50.0, 74.0, 70.0, 65.0, 75.0, 66.0, 66.0, 75.0, 74.0, 70.0, 52.0, 70.0, 64.0, 74.0, 69.0, 71.0, 70.0, 65.0, 79.0, 63.0, 72.0, 55.0, 51.0, 68.0, 67.0, 75.0, 56.0, 64.0, 67.0, 70.0, 46.0, 63.0, 53.0, 77.0, 65.0, 72.0, 69.0, 67.0, 65.0, 64.0, 66.0, 60.0, 67.0, 59.0, 70.0, 64.0, 67.0, 63.0, 69.0, 53.0, 72.0, 52.0, 55.0, 64.0, 62.0, 76.0, 63.0, 60.0, 75.0, 71.0, 73.0, 57.0, 64.0, 75.0, 62.0, 73.0, 76.0, 58.0, 62.0, 71.0, 71.0, 60.0, 64.0, 76.0, 62.0, 67.0, 63.0, 46.0, 73.0, 53.0, 63.0, 73.0, 49.0, 64.0, 71.0, 68.0, 68.0, 66.0, 51.0, 79.0, 68.0, 74.0, 63.0, 63.0, 70.0, 51.0, 63.0, 74.0, 52.0, 73.0, 68.0, 53.0, 57.0, 62.0, 64.0, 64.0, 60.0, 69.0, 52.0, 56.0, 74.0, 54.0, 59.0, 32.0, 64.0, 57.0, 70.0, 78.0, 67.0, 52.0, 59.0, 71.0, 48.0, 64.0, 70.0, 75.0, 63.0, 57.0, 72.0, 69.0, 45.0, 55.0, 64.0, 65.0, 52.0, 69.0, 47.0, 71.0, 58.0, 64.0, 70.0, 66.0, 62.0, 58.0, 55.0, 53.0, 47.0, 66.0, 65.0, 48.0, 73.0, 56.0, 56.0, 67.0, 57.0, 69.0, 71.0, 72.0, 57.0, 53.0, 63.0, 74.0, 62.0, 62.0, 66.0, 57.0, 72.0, 63.0, 72.0, 64.0, 51.0, 77.0, 63.0, 48.0, 62.0, 58.0, 60.0, 63.0, 69.0, 59.0, 61.0, 60.0, 59.0, 61.0, 66.0, 65.0, 44.0, 68.0, 45.0, 65.0, 72.0, 64.0, 66.0, 62.0, 84.0, 63.0, 51.0, 66.0, 54.0, 49.0, 50.0, 64.0, 53.0, 37.0, 57.0, 54.0, 63.0, 77.0, 43.0, 68.0, 45.0, 67.0, 57.0, 62.0, 52.0, 65.0, 60.0, 66.0, 77.0]\n"
     ]
    }
   ],
   "source": [
    "print (rating_list)"
   ]
  },
  {
   "cell_type": "code",
   "execution_count": 7,
   "metadata": {},
   "outputs": [
    {
     "name": "stdout",
     "output_type": "stream",
     "text": [
      "['The Greatest Showman', 'It', 'The Shape of Water', 'Thor: Ragnarok', 'Justice League', 'Wonder', 'Blade Runner 2049', 'Spider-Man: Homecoming', 'Murder on the Orient Express', 'Star Wars: Episode VIII - The Last Jedi', 'Three Billboards Outside Ebbing, Missouri', 'Downsizing', 'Coco', 'Call Me by Your Name', 'Jumanji: Welcome to the Jungle', 'Get Out', 'Dunkirk', 'Wonder Woman', 'Phantom Thread', 'Pitch Perfect 3', 'Guardians of the Galaxy Vol. 2', 'Hostiles', 'The Upside', 'Mother!', 'Pirates of the Caribbean: Dead Men Tell No Tales', 'Logan', 'Baby Driver', 'Chappaquiddick', 'Beauty and the Beast', 'Kingsman: The Golden Circle', 'I, Tonya', 'All the Money in the World', 'Wind River', 'Baywatch', 'Jigsaw', 'Leatherface', 'The Wife', 'Papillon', 'The Endless', \"Molly's Game\", \"Gerald's Game\", 'Disobedience', 'Lady Bird', 'The Disaster Artist', 'The Foreigner', 'Transformers: The Last Knight', 'A Prayer Before Dawn', 'Alien: Covenant', 'Darkest Hour', 'You Were Never Really Here', 'First Reformed', 'Logan Lucky', 'Valerian and the City of a Thousand Planets', 'Bodied', 'The Ritual', 'The Post', 'The Mummy', 'The Snowman', 'King Arthur: Legend of the Sword', 'Atomic Blonde', 'John Wick: Chapter 2', 'Suburbicon', 'Bright', 'Battle of the Sexes', 'The Killing of a Sacred Deer', 'Fifty Shades Darker', 'Loving Pablo', 'Geostorm', 'Only the Brave', 'Happy Death Day', 'The Death of Stalin', \"The Hitman's Bodyguard\", 'Ferdinand', 'Annabelle: Creation', 'Roman J. Israel, Esq.', 'Life', 'Power Rangers', 'The Fate of the Furious', 'A Crooked Somebody', 'Stronger', 'Ghost Stories', 'Kong: Skull Island', 'Revenge', 'What Happened to Monday', 'The Circle', 'American Made', 'xXx: Return of Xander Cage', 'Mom and Dad', 'Ghost in the Shell', 'American Assassin', 'Gifted', '1922', 'CHIPS', 'War for the Planet of the Apes', 'Professor Marston and the Wonder Women', 'Okja', 'The Dark Tower', 'The Mountain Between Us', 'Der Hauptmann', 'I Kill Giants', 'The Square', 'The Florida Project', 'Home Again', 'Girls Trip', 'The Glass Castle', 'Goodbye Christopher Robin', \"Daddy's Home 2\", 'Hot Summer Nights', 'The Big Sick', 'It Comes at Night', 'The Children Act', 'Cargo', 'Death Note', 'Good Time', 'Permission', 'The Boss Baby', 'Shot Caller', 'Damascus Cover', 'Newness', 'Brawl in Cell Block 99', 'Anna and the Apocalypse', 'Cars 3', 'Marrowbone', 'The Lodgers', 'Paddington 2', 'A Ghost Story', 'Den 12. mann', 'The Beguiled', 'My Friend Dahmer', \"A Dog's Purpose\", 'Cult of Chucky', 'Despicable Me 3', 'Mudbound', 'Flatliners', 'The Lego Batman Movie', 'Thoroughbreds', 'Submergence', 'Song to Song', 'Wonder Wheel', 'Everything, Everything', 'Mary Shelley', 'War Machine', 'Beast', 'Rough Night', '47 Meters Down', 'Detroit', 'Father Figures', 'Hagane no renkinjutsushi', 'The Emoji Movie', 'On Chesil Beach', 'The Tribes of Palos Verdes', 'Thelma', 'Loving Vincent', 'Jungle', 'Bleeding Steel', 'Flower', 'Breathe', 'Amityville: The Awakening', 'Before I Fall', 'Borg McEnroe', 'The Rider', 'Crooked House', 'Pyewacket', 'T2 Trainspotting', 'Mutafukaz', 'Rings', 'A Bad Moms Christmas', 'Woman Walks Ahead', 'The Bookshop', 'Hangman', 'To the Bone', 'The Layover', 'Aus dem Nichts', 'Table 19', 'The Space Between Us', 'The Meyerowitz Stories (New and Selected)', 'The Book of Henry', 'Tulip Fever', 'All Eyez on Me', 'Gemini', \"Coup d'Etat\", 'Killing Gunther', 'Ingrid Goes West', 'Same Kind of Different as Me', 'The Vault', 'Columbus', 'The House', 'Fist Fight', \"Film Stars Don't Die in Liverpool\", '24 Hours to Live', \"I Don't Feel at Home in This World Anymore.\", 'Megan Leavey', 'Marshall', 'Shock and Awe', 'Beyond Skyline', 'Sand Castle', 'Lucky', 'Unlocked', '6 Days', 'Going in Style', 'The Yellow Birds', 'Journeyman', 'The Discovery', 'Lean on Pete', 'Creep 2', 'Wish Upon', \"God's Own Country\", 'The Shack', 'Kings', 'Rememory', 'How to Talk to Girls at Parties', 'The Lego Ninjago Movie', 'The Only Living Boy in New York', 'Last Flag Flying', 'Kidnap', 'My Little Pony: The Movie', 'Tragedy Girls', 'Modern Life Is Rubbish', 'The Current War', 'The Party', \"Brad's Status\", 'Snatched', 'Victoria & Abdul', 'The Dinner', 'The Hero', 'Una Mujer Fantástica', 'Beach Rats', 'Finding Your Feet', 'Sweet Virginia', 'The Dawn Wall', 'Berlin Syndrome', \"Devil's Gate\", \"Journey's End\", 'The Cured', 'First Kill', 'Unforgettable', 'Mark Felt: The Man Who Brought Down the White House', 'Once Upon a Time in Venice', \"Tyler Perry's Boo 2! A Madea Halloween\", 'Aftermath', 'Naked', 'Lowlife', \"L'insulte\", 'The Bye Bye Man', 'Meari to majo no hana', 'XX', 'Please Stand By', 'Acts of Vengeance', 'Wonderstruck', 'Izzy Gets the Fuck Across Town', 'Thank You for Your Service', 'My Cousin Rachel', 'Super Dark Times', 'Nelyubov']\n"
     ]
    }
   ],
   "source": [
    "print (title_list)"
   ]
  },
  {
   "cell_type": "code",
   "execution_count": 8,
   "metadata": {},
   "outputs": [
    {
     "name": "stdout",
     "output_type": "stream",
     "text": [
      "[48, 69, 87, 74, 45, 66, 81, 73, 52, 85, 88, 63, 81, 93, 58, 84, 94, 76, 90, 40, 67, 65, 56, 75, 39, 77, 86, 67, 65, 44, 77, 72, 73, 37, 39, 40, 77, 52, 80, 71, 77, 74, 94, 76, 55, 27, 76, 65, 75, 84, 85, 78, 51, 77, 57, 83, 34, 23, 41, 63, 75, 42, 29, 73, 73, 33, 42, 21, 72, 57, 88, 47, 58, 62, 58, 54, 44, 56, 74, 76, 68, 62, 81, 47, 43, 65, 42, 59, 52, 45, 60, 70, 28, 82, 68, 75, 34, 48, 67, 74, 73, 92, 41, 71, 56, 54, 30, 44, 86, 78, 62, 65, 43, 80, 62, 50, 59, 36, 50, 79, 74, 59, 63, 52, 88, 84, 76, 77, 68, 43, 69, 49, 85, 27, 75, 75, 38, 54, 45, 52, 49, 56, 74, 51, 52, 77, 22, 48, 12, 62, 49, 74, 62, 48, 43, 45, 51, 42, 58, 63, 92, 59, 56, 67, 49, 25, 42, 51, 62, 31, 64, 15, 65, 40, 33, 79, 31, 38, 38, 71, 44, 53, 71, 47, 50, 89, 30, 37, 65, 37, 75, 66, 66, 45, 46, 45, 80, 46, 36, 50, 56, 72, 54, 80, 75, 32, 85, 32, 34, 48, 50, 55, 33, 65, 44, 39, 58, 27, 42, 73, 71, 45, 58, 57, 61, 86, 78, 53, 72, 81, 70, 37, 73, 57, 39, 45, 49, 28, 17, 44, 36, 66, 72, 37, 75, 64, 49, 49, 71, 51, 68, 63, 75, 86]\n"
     ]
    }
   ],
   "source": [
    "print (metascore_list)"
   ]
  },
  {
   "cell_type": "code",
   "execution_count": 9,
   "metadata": {},
   "outputs": [
    {
     "name": "stderr",
     "output_type": "stream",
     "text": [
      "/home/eagle/anaconda3/lib/python3.6/site-packages/sklearn/cross_validation.py:41: DeprecationWarning: This module was deprecated in version 0.18 in favor of the model_selection module into which all the refactored classes and functions are moved. Also note that the interface of the new CV iterators are different from that of this module. This module will be removed in 0.20.\n",
      "  \"This module will be removed in 0.20.\", DeprecationWarning)\n"
     ]
    }
   ],
   "source": [
    "from sklearn.cross_validation import train_test_split\n",
    "feature_train, feature_test, target_train, target_test = train_test_split(rating_list, metascore_list, test_size=0.5, random_state=42)\n",
    "train_color = \"b\"\n",
    "test_color = \"r\""
   ]
  },
  {
   "cell_type": "code",
   "execution_count": 10,
   "metadata": {},
   "outputs": [
    {
     "name": "stdout",
     "output_type": "stream",
     "text": [
      "[70.0, 65.0, 66.0, 75.0, 74.0, 56.0, 66.0, 69.0, 57.0, 62.0, 54.0, 65.0, 84.0, 66.0, 66.0, 77.0, 59.0, 66.0, 62.0, 64.0, 68.0, 63.0, 63.0, 57.0, 72.0, 74.0, 70.0, 70.0, 45.0, 71.0, 66.0, 51.0, 67.0, 66.0, 64.0, 61.0, 67.0, 75.0, 69.0, 64.0, 71.0, 53.0, 63.0, 74.0, 74.0, 70.0, 79.0, 71.0, 79.0, 52.0, 51.0, 62.0, 64.0, 69.0, 72.0, 64.0, 58.0, 43.0, 75.0, 47.0, 67.0, 63.0, 69.0, 66.0, 66.0, 62.0, 65.0, 80.0, 67.0, 66.0, 63.0, 75.0, 55.0, 67.0, 65.0, 73.0, 48.0, 49.0, 67.0, 63.0, 64.0, 71.0, 60.0, 64.0, 63.0, 57.0, 65.0, 63.0, 72.0, 52.0, 68.0, 74.0, 64.0, 72.0, 51.0, 72.0, 75.0, 67.0, 56.0, 71.0, 70.0, 70.0, 48.0, 57.0, 74.0, 65.0, 64.0, 51.0, 70.0, 62.0, 62.0, 73.0, 55.0, 63.0, 64.0, 59.0, 58.0, 68.0, 77.0, 77.0, 67.0, 69.0, 60.0, 70.0, 60.0, 55.0, 58.0]\n",
      "............................\n",
      "[63, 47, 75, 67, 77, 42, 50, 74, 63, 71, 36, 67, 81, 45, 63, 73, 48, 71, 45, 29, 75, 68, 70, 45, 88, 80, 73, 55, 25, 51, 77, 52, 48, 75, 78, 39, 62, 71, 65, 65, 68, 46, 59, 76, 77, 79, 74, 54, 77, 27, 37, 46, 49, 84, 67, 68, 39, 37, 73, 15, 62, 70, 47, 53, 73, 45, 52, 93, 63, 73, 49, 76, 42, 58, 61, 75, 34, 39, 73, 57, 44, 85, 55, 33, 33, 37, 68, 32, 86, 31, 41, 75, 52, 65, 23, 80, 92, 49, 37, 66, 43, 52, 42, 44, 69, 51, 62, 69, 74, 71, 74, 59, 59, 54, 58, 44, 50, 59, 86, 67, 65, 47, 30, 58, 28, 71, 41]\n"
     ]
    }
   ],
   "source": [
    "print (feature_train)\n",
    "print (\"............................\")\n",
    "print (target_train)"
   ]
  },
  {
   "cell_type": "code",
   "execution_count": 11,
   "metadata": {},
   "outputs": [
    {
     "data": {
      "text/plain": [
       "LinearRegression(copy_X=True, fit_intercept=True, n_jobs=1, normalize=False)"
      ]
     },
     "execution_count": 11,
     "metadata": {},
     "output_type": "execute_result"
    }
   ],
   "source": [
    "import numpy as np\n",
    "\n",
    "from sklearn import linear_model\n",
    "feature_train = np.array(feature_train).reshape(-1,1)\n",
    "feature_test = np.array(feature_test).reshape(-1,1)\n",
    "reg = linear_model.LinearRegression()\n",
    "reg.fit(feature_train,target_train)"
   ]
  },
  {
   "cell_type": "code",
   "execution_count": 12,
   "metadata": {},
   "outputs": [
    {
     "name": "stdout",
     "output_type": "stream",
     "text": [
      "[1.48752106]\n",
      "-38.19034250421116\n",
      "0.48817569483013035\n",
      "0.5255321109435993\n"
     ]
    }
   ],
   "source": [
    "print(reg.coef_)\n",
    "print(reg.intercept_)\n",
    "print(reg.score(feature_train,target_train))\n",
    "print(reg.score(feature_test,target_test))"
   ]
  },
  {
   "cell_type": "code",
   "execution_count": 13,
   "metadata": {},
   "outputs": [
    {
     "name": "stdout",
     "output_type": "stream",
     "text": [
      "[77.83629983]\n"
     ]
    }
   ],
   "source": [
    "print(reg.predict(78))"
   ]
  },
  {
   "cell_type": "code",
   "execution_count": 14,
   "metadata": {},
   "outputs": [
    {
     "name": "stdout",
     "output_type": "stream",
     "text": [
      "[1.48752106]\n",
      "-38.19034250421116\n",
      "0.48817569483013035\n",
      "0.5255321109435993\n",
      "[1.36778835]\n"
     ]
    },
    {
     "data": {
      "text/plain": [
       "<matplotlib.figure.Figure at 0x7f3b8a2cd470>"
      ]
     },
     "metadata": {},
     "output_type": "display_data"
    }
   ],
   "source": [
    "### draw the scatterplot, with color-coded training and testing points\n",
    "import matplotlib.pyplot as plt\n",
    "for feature, target in zip(feature_test, target_test):\n",
    "    plt.scatter( feature, target, color=test_color ) \n",
    "for feature, target in zip(feature_train, target_train):\n",
    "    plt.scatter( feature, target, color=train_color ) \n",
    "\n",
    "### labels for the legend\n",
    "plt.scatter(feature_test[0], target_test[0], color=test_color, label=\"test\")\n",
    "plt.scatter(feature_test[0], target_test[0], color=train_color, label=\"train\")\n",
    "\n",
    "print(reg.coef_)\n",
    "print(reg.intercept_)\n",
    "print(reg.score(feature_train,target_train))\n",
    "\n",
    "print(reg.score(feature_test,target_test))\n",
    "\n",
    "\n",
    "### draw the regression line, once it's coded\n",
    "try:\n",
    "    plt.plot( feature_test, reg.predict(feature_test) )\n",
    "except NameError:\n",
    "    pass\n",
    "reg.fit(feature_test, target_test)\n",
    "plt.plot(feature_train, reg.predict(feature_train), color=\"b\")\n",
    "print(reg.coef_)\n",
    "plt.xlabel(\"imdb_rating\")\n",
    "plt.ylabel(\"metascore\")\n",
    "plt.legend()\n",
    "plt.show()"
   ]
  },
  {
   "cell_type": "code",
   "execution_count": 15,
   "metadata": {},
   "outputs": [
    {
     "name": "stdout",
     "output_type": "stream",
     "text": [
      "62\n",
      "Loving Vincent\n"
     ]
    }
   ],
   "source": [
    "for i in range(0,len(rating_list)):\n",
    "    if rating_list[i]==78:\n",
    "        print (metascore_list[i])\n",
    "        print(title_list[i])"
   ]
  },
  {
   "cell_type": "code",
   "execution_count": null,
   "metadata": {},
   "outputs": [],
   "source": [
    "z"
   ]
  }
 ],
 "metadata": {
  "kernelspec": {
   "display_name": "Python 3",
   "language": "python",
   "name": "python3"
  },
  "language_info": {
   "codemirror_mode": {
    "name": "ipython",
    "version": 3
   },
   "file_extension": ".py",
   "mimetype": "text/x-python",
   "name": "python",
   "nbconvert_exporter": "python",
   "pygments_lexer": "ipython3",
   "version": "3.6.4"
  }
 },
 "nbformat": 4,
 "nbformat_minor": 2
}
